{
 "cells": [
  {
   "cell_type": "code",
   "execution_count": 1,
   "metadata": {},
   "outputs": [],
   "source": [
    "#Basic SEIR Model: \n",
    "import numpy as np\n",
    "import pandas as pd\n",
    "import matplotlib.pyplot as plt\n",
    "from sklearn.metrics import mean_squared_error"
   ]
  },
  {
   "cell_type": "code",
   "execution_count": 11,
   "metadata": {},
   "outputs": [
    {
     "data": {
      "text/html": [
       "<div>\n",
       "<style scoped>\n",
       "    .dataframe tbody tr th:only-of-type {\n",
       "        vertical-align: middle;\n",
       "    }\n",
       "\n",
       "    .dataframe tbody tr th {\n",
       "        vertical-align: top;\n",
       "    }\n",
       "\n",
       "    .dataframe thead th {\n",
       "        text-align: right;\n",
       "    }\n",
       "</style>\n",
       "<table border=\"1\" class=\"dataframe\">\n",
       "  <thead>\n",
       "    <tr style=\"text-align: right;\">\n",
       "      <th></th>\n",
       "      <th>Date</th>\n",
       "      <th>Confirmed</th>\n",
       "      <th>Recovered</th>\n",
       "      <th>Daily_Confirmed</th>\n",
       "      <th>Deaths</th>\n",
       "      <th>Daily_Deaths</th>\n",
       "      <th>Total_Test</th>\n",
       "      <th>Number_of_daily_test</th>\n",
       "      <th>time</th>\n",
       "    </tr>\n",
       "  </thead>\n",
       "  <tbody>\n",
       "    <tr>\n",
       "      <th>66</th>\n",
       "      <td>12-05-20</td>\n",
       "      <td>16660</td>\n",
       "      <td>3147</td>\n",
       "      <td>969</td>\n",
       "      <td>250</td>\n",
       "      <td>11</td>\n",
       "      <td>136638</td>\n",
       "      <td>6773.0</td>\n",
       "      <td>67</td>\n",
       "    </tr>\n",
       "    <tr>\n",
       "      <th>67</th>\n",
       "      <td>13-05-20</td>\n",
       "      <td>17822</td>\n",
       "      <td>3361</td>\n",
       "      <td>1162</td>\n",
       "      <td>269</td>\n",
       "      <td>19</td>\n",
       "      <td>144538</td>\n",
       "      <td>7900.0</td>\n",
       "      <td>68</td>\n",
       "    </tr>\n",
       "    <tr>\n",
       "      <th>68</th>\n",
       "      <td>14-05-20</td>\n",
       "      <td>18863</td>\n",
       "      <td>3361</td>\n",
       "      <td>1041</td>\n",
       "      <td>283</td>\n",
       "      <td>14</td>\n",
       "      <td>151930</td>\n",
       "      <td>7392.0</td>\n",
       "      <td>69</td>\n",
       "    </tr>\n",
       "    <tr>\n",
       "      <th>69</th>\n",
       "      <td>15-05-20</td>\n",
       "      <td>20065</td>\n",
       "      <td>3882</td>\n",
       "      <td>1202</td>\n",
       "      <td>298</td>\n",
       "      <td>15</td>\n",
       "      <td>160512</td>\n",
       "      <td>8582.0</td>\n",
       "      <td>70</td>\n",
       "    </tr>\n",
       "    <tr>\n",
       "      <th>70</th>\n",
       "      <td>16-05-20</td>\n",
       "      <td>20995</td>\n",
       "      <td>4117</td>\n",
       "      <td>930</td>\n",
       "      <td>314</td>\n",
       "      <td>16</td>\n",
       "      <td>167294</td>\n",
       "      <td>6782.0</td>\n",
       "      <td>71</td>\n",
       "    </tr>\n",
       "  </tbody>\n",
       "</table>\n",
       "</div>"
      ],
      "text/plain": [
       "        Date  Confirmed  Recovered  Daily_Confirmed  Deaths  Daily_Deaths  \\\n",
       "66  12-05-20      16660       3147              969     250            11   \n",
       "67  13-05-20      17822       3361             1162     269            19   \n",
       "68  14-05-20      18863       3361             1041     283            14   \n",
       "69  15-05-20      20065       3882             1202     298            15   \n",
       "70  16-05-20      20995       4117              930     314            16   \n",
       "\n",
       "    Total_Test  Number_of_daily_test  time  \n",
       "66      136638                6773.0    67  \n",
       "67      144538                7900.0    68  \n",
       "68      151930                7392.0    69  \n",
       "69      160512                8582.0    70  \n",
       "70      167294                6782.0    71  "
      ]
     },
     "execution_count": 11,
     "metadata": {},
     "output_type": "execute_result"
    }
   ],
   "source": [
    "N = 164467959\n",
    "\n",
    "df = pd.read_csv(\"BD_CVdata.csv\", header = 0) # dataset\n",
    "\n",
    "df = df.iloc[26:,:]\n",
    "df.shape\n",
    "df.tail()"
   ]
  },
  {
   "cell_type": "code",
   "execution_count": 4,
   "metadata": {},
   "outputs": [],
   "source": [
    "start_date = df['Date'].iloc[0]\n",
    "confirmed = df['Confirmed'].values.tolist()\n",
    "recovered = df['Recovered'].values.tolist()\n",
    "deaths = df['Deaths'].values.tolist()\n",
    "test = df['Number_of_daily_test'].values.tolist()\n",
    "tt = df['Total_Test'].values.tolist()\n",
    "\n",
    "infected = [ c - r - d for (c, r, d) in zip(confirmed, recovered, deaths)]"
   ]
  },
  {
   "cell_type": "code",
   "execution_count": null,
   "metadata": {},
   "outputs": [],
   "source": [
    "I = infected[-1]\n",
    "R = recovered[-1]\n",
    "D = deaths [-1]\n",
    "\n",
    "SE = N - I - R - D\n",
    "\n",
    "E = int(SE * .1)\n",
    "\n",
    "S = SE - E"
   ]
  },
  {
   "cell_type": "code",
   "execution_count": 69,
   "metadata": {},
   "outputs": [],
   "source": [
    "t_max = 50 #Maximum time, in days\n",
    "dt = .1 #time steps, in days\n",
    "\n",
    "#create time datapoints for our calculation\n",
    "t = np.linspace(0, t_max, int(t_max/dt) + 1) \n",
    "\n",
    "I = infected[-1]\n",
    "R = recovered[-1]\n",
    "D = deaths [-1]\n",
    "\n",
    "SE = N - I - R - D\n",
    "\n",
    "E = int(SE * .1)\n",
    "\n",
    "S = SE - E\n",
    "init_vals =S  ,E,I,R,D\n",
    "\n",
    "\n",
    "alpha = 0.11712301036017933  \n",
    "\n",
    "beta = 0.047312686058343836\n",
    "\n",
    "gamma = 0.014793830657853321\n",
    "\n",
    "delta = 0.0010072395341517155\n",
    "\n",
    "params = 0.11712301036017933, 0.047312686058343836, 0.014793830657853321, 0.0010072395341517155"
   ]
  },
  {
   "cell_type": "code",
   "execution_count": null,
   "metadata": {},
   "outputs": [],
   "source": []
  },
  {
   "cell_type": "code",
   "execution_count": 70,
   "metadata": {},
   "outputs": [],
   "source": [
    "def seird_model_wsd(init_vals, params, t,rho):\n",
    "\n",
    "    S_0, E_0, I_0, R_0, D_0 = init_vals\n",
    "    S, E, I, R, D = [S_0], [E_0], [I_0], [R_0], [D_0]\n",
    "    alpha, beta, gamma, delta = params\n",
    "    dt = t[1] - t[0]\n",
    "    for _ in t[1:]:\n",
    "\n",
    "        next_S = S[-1] - ( rho*beta * (S[-1] / N) * I[-1] )  # Susceptible\n",
    "        next_E = E[-1] + ( rho*beta * (S[-1] / N) * I[-1] ) - ( alpha * E[-1] ) # Exposed\n",
    "        next_I = I[-1] + ( alpha * E[-1] ) - ( gamma * I[-1] ) - ( delta * I[-1] ) # Infected\n",
    "        next_R = R[-1] + ( gamma * I[-1] ) # Recovered\n",
    "        next_D = D[-1] + ( delta * I[-1] ) # Deaths\n",
    "        \n",
    "        S.append(next_S)\n",
    "        E.append(next_E)\n",
    "        I.append(next_I)\n",
    "        R.append(next_R)\n",
    "        D.append(next_D)\n",
    "        \n",
    "    return S, E, I, R, D, t"
   ]
  },
  {
   "cell_type": "code",
   "execution_count": 73,
   "metadata": {},
   "outputs": [
    {
     "data": {
      "image/png": "[encoded data removed]",
      "text/plain": [
       "<Figure size 432x288 with 1 Axes>"
      ]
     },
     "metadata": {
      "needs_background": "light"
     },
     "output_type": "display_data"
    }
   ],
   "source": [
    "# Run the claculation\n",
    "results = seird_model_wsd(init_vals, params, t, 0.8)\n",
    "# Plot results\n",
    "S, E, I, R, D, t = results\n",
    "\n",
    "ff = pd.DataFrame() \n",
    "ff['time'] = t\n",
    "ff['Susceptible_Population'] = S\n",
    "ff['Exposed_Population'] = E\n",
    "ff['Infected__Population'] = I\n",
    "ff['Recovered_Population'] = R\n",
    "ff['Death'] = D\n",
    "\n",
    "ff.plot('time', y=['Susceptible_Population', 'Exposed_Population', 'Infected__Population', 'Recovered_Population','Death' ], \n",
    "    color=['green', 'blue', 'yellow', 'lime', 'red'])\n",
    "plt.show()"
   ]
  },
  {
   "cell_type": "code",
   "execution_count": 79,
   "metadata": {},
   "outputs": [
    {
     "data": {
      "image/png": "[encoded data removed]",
      "text/plain": [
       "<Figure size 432x288 with 1 Axes>"
      ]
     },
     "metadata": {
      "needs_background": "light"
     },
     "output_type": "display_data"
    }
   ],
   "source": [
    "import matplotlib\n",
    "import matplotlib.pyplot as plt\n",
    "import numpy as np\n",
    "\n",
    "\n",
    "labels = t\n",
    "Susceptible_Population = S\n",
    "Exposed_Population = E\n",
    "Infected__Population = I\n",
    "Recovered_Population= R\n",
    "Death = D\n",
    "\n",
    "x = np.arange(len(labels))  # the label locations\n",
    "width = 0.1  # the width of the bars\n",
    "\n",
    "fig, ax = plt.subplots()\n",
    "rects1 = ax.bar(x - width/2, Susceptible_Population, width, label='S')\n",
    "rects3 = ax.bar(x - width/2, Infected__Population, width, label='I')\n",
    "rects4 = ax.bar(x + width/2, Recovered_Population, width, label='R')\n",
    "\n",
    "rects5 = ax.bar(x + width/2, Death, width, label='D')\n",
    "\n",
    "rects2 = ax.bar(x + width/2, Exposed_Population, width, label='E')\n",
    "\n",
    "\n",
    "# Add some text for labels, title and custom x-axis tick labels, etc.\n",
    "ax.set_ylabel('Number')\n",
    "ax.set_title('SEIRD Model')\n",
    "ax.set_xticks(x)\n",
    "ax.set_xticklabels(labels)\n",
    "ax.legend()\n",
    "\n",
    "plt.show()\n"
   ]
  },
  {
   "cell_type": "code",
   "execution_count": null,
   "metadata": {},
   "outputs": [],
   "source": []
  }
 ],
 "metadata": {
  "kernelspec": {
   "display_name": "Python 3",
   "language": "python",
   "name": "python3"
  },
  "language_info": {
   "codemirror_mode": {
    "name": "ipython",
    "version": 3
   },
   "file_extension": ".py",
   "mimetype": "text/x-python",
   "name": "python",
   "nbconvert_exporter": "python",
   "pygments_lexer": "ipython3",
   "version": "3.7.5"
  }
 },
 "nbformat": 4,
 "nbformat_minor": 2
}
